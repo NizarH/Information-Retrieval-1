{
 "cells": [
  {
   "cell_type": "code",
   "execution_count": 1,
   "metadata": {},
   "outputs": [
    {
     "name": "stderr",
     "output_type": "stream",
     "text": [
      "[nltk_data] Downloading package stopwords to /home/klm/nltk_data...\n",
      "[nltk_data]   Package stopwords is already up-to-date!\n",
      "[nltk_data] Downloading package punkt to /home/klm/nltk_data...\n",
      "[nltk_data]   Package punkt is already up-to-date!\n"
     ]
    },
    {
     "name": "stdout",
     "output_type": "stream",
     "text": [
      "Docs already processed. Loading from disk\n"
     ]
    }
   ],
   "source": [
    "import json\n",
    "import numpy as np\n",
    "import download_ap\n",
    "import read_ap\n",
    "import doc2vec\n",
    "from tf_idf import print_results"
   ]
  },
  {
   "cell_type": "code",
   "execution_count": 2,
   "metadata": {},
   "outputs": [
    {
     "name": "stdout",
     "output_type": "stream",
     "text": [
      "MAP mean:  0.2197573118946605\n",
      "NDCG mean:  0.5819464571731453\n"
     ]
    }
   ],
   "source": [
    "path = './results/tf-idf.json'\n",
    "with open(path) as json_file:\n",
    "    data = json.load(json_file)\n",
    "# print(data)\n",
    "MAP_scores = []\n",
    "NDCG_scores = []\n",
    "for key in data:\n",
    "#     print(data[key])\n",
    "    for score in data[key]:\n",
    "        if score == 'map':\n",
    "            MAP_scores.append(data[key][score])\n",
    "        elif score == 'ndcg':\n",
    "            NDCG_scores.append(data[key][score])\n",
    "# print(MAP_scores)\n",
    "# print(NDCG_scores)\n",
    "mean_MAP = np.mean(MAP_scores)\n",
    "mean_NDCG = np.mean(NDCG_scores)\n",
    "print('MAP mean: ', mean_MAP)\n",
    "print('NDCG mean: ', mean_NDCG)"
   ]
  },
  {
   "cell_type": "code",
   "execution_count": null,
   "metadata": {},
   "outputs": [
    {
     "name": "stdout",
     "output_type": "stream",
     "text": [
      "Docs already processed. Loading from disk\n"
     ]
    }
   ],
   "source": [
    "# ensure dataset is downloaded\n",
    "# download_ap.download_dataset()\n",
    "# pre-process the text\n",
    "docs_by_id = read_ap.get_processed_docs()\n",
    "print(len(list(docs_by_id.keys())))\n",
    "# get qrels and queries\n",
    "qrels, queries = read_ap.read_qrels()"
   ]
  },
  {
   "cell_type": "code",
   "execution_count": null,
   "metadata": {},
   "outputs": [],
   "source": [
    "# try random query\n",
    "    random_qid = random.choice(list(queries.keys()))\n",
    "    random_query = queries[random_qid]\n",
    "    # get tf-idf scores for random query\n",
    "    results = doc2vec_search(random_query)\n",
    "    # print results of random query\n",
    "    print_results(docs_by_id, results, random_query)"
   ]
  }
 ],
 "metadata": {
  "kernelspec": {
   "display_name": "Python 3",
   "language": "python",
   "name": "python3"
  },
  "language_info": {
   "codemirror_mode": {
    "name": "ipython",
    "version": 3
   },
   "file_extension": ".py",
   "mimetype": "text/x-python",
   "name": "python",
   "nbconvert_exporter": "python",
   "pygments_lexer": "ipython3",
   "version": "3.7.5"
  }
 },
 "nbformat": 4,
 "nbformat_minor": 2
}
